{
 "cells": [
  {
   "cell_type": "code",
   "execution_count": 1,
   "id": "26c1e9a9",
   "metadata": {},
   "outputs": [
    {
     "name": "stdout",
     "output_type": "stream",
     "text": [
      "73\n"
     ]
    }
   ],
   "source": [
    "#Cuisine id 0f Mexican\n",
    "import requests\n",
    "\n",
    "h = {'user-key': '6eacc55f385ade30c93e9d0259691e14'}\n",
    "data = {'city_id':1}\n",
    "res = requests.get('https://developers.zomato.com/api/v2.1/cuisines',headers=h,params=data)\n",
    "\n",
    "data=res.json()\n",
    "l=data['cuisines']\n",
    "\n",
    "for i in l:\n",
    "    if(i['cuisine']['cuisine_name']=='Mexican'):\n",
    "        print(i['cuisine']['cuisine_id'])"
   ]
  },
  {
   "cell_type": "code",
   "execution_count": 21,
   "id": "e262e6bb",
   "metadata": {},
   "outputs": [
    {
     "name": "stdout",
     "output_type": "stream",
     "text": [
      "subzone 104\n"
     ]
    }
   ],
   "source": [
    "h = {'user-key': '6eacc55f385ade30c93e9d0259691e14'}\n",
    "data = {'query':'Connaught Place'}\n",
    "res = requests.get('https://developers.zomato.com/api/v2.1/locations',headers=h,params=data)\n",
    "data=res.json()\n",
    "l=data['location_suggestions']\n",
    "for i in l:\n",
    "    print(i['entity_type'],i['entity_id'])"
   ]
  },
  {
   "cell_type": "code",
   "execution_count": 3,
   "id": "3711e2cb",
   "metadata": {},
   "outputs": [
    {
     "data": {
      "text/plain": [
       "{'cuisines': [{'cuisine': {'cuisine_id': 1035, 'cuisine_name': 'Afghan'}},\n",
       "  {'cuisine': {'cuisine_id': 152, 'cuisine_name': 'African'}},\n",
       "  {'cuisine': {'cuisine_id': 1, 'cuisine_name': 'American'}},\n",
       "  {'cuisine': {'cuisine_id': 2, 'cuisine_name': 'Andhra'}},\n",
       "  {'cuisine': {'cuisine_id': 4, 'cuisine_name': 'Arabian'}},\n",
       "  {'cuisine': {'cuisine_id': 3, 'cuisine_name': 'Asian'}},\n",
       "  {'cuisine': {'cuisine_id': 165, 'cuisine_name': 'Assamese'}},\n",
       "  {'cuisine': {'cuisine_id': 292, 'cuisine_name': 'Awadhi'}},\n",
       "  {'cuisine': {'cuisine_id': 193, 'cuisine_name': 'BBQ'}},\n",
       "  {'cuisine': {'cuisine_id': 5, 'cuisine_name': 'Bakery'}},\n",
       "  {'cuisine': {'cuisine_id': 145, 'cuisine_name': 'Bangladeshi'}},\n",
       "  {'cuisine': {'cuisine_id': 227, 'cuisine_name': 'Bar Food'}},\n",
       "  {'cuisine': {'cuisine_id': 132, 'cuisine_name': 'Belgian'}},\n",
       "  {'cuisine': {'cuisine_id': 10, 'cuisine_name': 'Bengali'}},\n",
       "  {'cuisine': {'cuisine_id': 270, 'cuisine_name': 'Beverages'}},\n",
       "  {'cuisine': {'cuisine_id': 1013, 'cuisine_name': 'Bihari'}},\n",
       "  {'cuisine': {'cuisine_id': 7, 'cuisine_name': 'Biryani'}},\n",
       "  {'cuisine': {'cuisine_id': 1032, 'cuisine_name': 'Bohri'}},\n",
       "  {'cuisine': {'cuisine_id': 247, 'cuisine_name': 'Bubble Tea'}},\n",
       "  {'cuisine': {'cuisine_id': 168, 'cuisine_name': 'Burger'}},\n",
       "  {'cuisine': {'cuisine_id': 22, 'cuisine_name': 'Burmese'}},\n",
       "  {'cuisine': {'cuisine_id': 30, 'cuisine_name': 'Cafe'}},\n",
       "  {'cuisine': {'cuisine_id': 121, 'cuisine_name': 'Cantonese'}},\n",
       "  {'cuisine': {'cuisine_id': 994, 'cuisine_name': 'Charcoal Chicken'}},\n",
       "  {'cuisine': {'cuisine_id': 18, 'cuisine_name': 'Chettinad'}},\n",
       "  {'cuisine': {'cuisine_id': 25, 'cuisine_name': 'Chinese'}},\n",
       "  {'cuisine': {'cuisine_id': 1040, 'cuisine_name': 'Coffee'}},\n",
       "  {'cuisine': {'cuisine_id': 35, 'cuisine_name': 'Continental'}},\n",
       "  {'cuisine': {'cuisine_id': 1014, 'cuisine_name': 'Cuisine Varies'}},\n",
       "  {'cuisine': {'cuisine_id': 100, 'cuisine_name': 'Desserts'}},\n",
       "  {'cuisine': {'cuisine_id': 268, 'cuisine_name': 'Drinks Only'}},\n",
       "  {'cuisine': {'cuisine_id': 146, 'cuisine_name': 'Egyptian'}},\n",
       "  {'cuisine': {'cuisine_id': 38, 'cuisine_name': 'European'}},\n",
       "  {'cuisine': {'cuisine_id': 40, 'cuisine_name': 'Fast Food'}},\n",
       "  {'cuisine': {'cuisine_id': 271, 'cuisine_name': 'Finger Food'}},\n",
       "  {'cuisine': {'cuisine_id': 45, 'cuisine_name': 'French'}},\n",
       "  {'cuisine': {'cuisine_id': 501, 'cuisine_name': 'Frozen Yogurt'}},\n",
       "  {'cuisine': {'cuisine_id': 1047, 'cuisine_name': 'Garhwali'}},\n",
       "  {'cuisine': {'cuisine_id': 47, 'cuisine_name': 'Goan'}},\n",
       "  {'cuisine': {'cuisine_id': 156, 'cuisine_name': 'Greek'}},\n",
       "  {'cuisine': {'cuisine_id': 1073, 'cuisine_name': 'Grilled Chicken'}},\n",
       "  {'cuisine': {'cuisine_id': 1059, 'cuisine_name': 'Grocery'}},\n",
       "  {'cuisine': {'cuisine_id': 48, 'cuisine_name': 'Gujarati'}},\n",
       "  {'cuisine': {'cuisine_id': 143, 'cuisine_name': 'Healthy Food'}},\n",
       "  {'cuisine': {'cuisine_id': 1049, 'cuisine_name': 'Himachali'}},\n",
       "  {'cuisine': {'cuisine_id': 1022, 'cuisine_name': 'Hot Pot'}},\n",
       "  {'cuisine': {'cuisine_id': 1026, 'cuisine_name': 'Hot dogs'}},\n",
       "  {'cuisine': {'cuisine_id': 49, 'cuisine_name': 'Hyderabadi'}},\n",
       "  {'cuisine': {'cuisine_id': 233, 'cuisine_name': 'Ice Cream'}},\n",
       "  {'cuisine': {'cuisine_id': 114, 'cuisine_name': 'Indonesian'}},\n",
       "  {'cuisine': {'cuisine_id': 140, 'cuisine_name': 'Iranian'}},\n",
       "  {'cuisine': {'cuisine_id': 218, 'cuisine_name': 'Israeli'}},\n",
       "  {'cuisine': {'cuisine_id': 55, 'cuisine_name': 'Italian'}},\n",
       "  {'cuisine': {'cuisine_id': 60, 'cuisine_name': 'Japanese'}},\n",
       "  {'cuisine': {'cuisine_id': 164, 'cuisine_name': 'Juices'}},\n",
       "  {'cuisine': {'cuisine_id': 65, 'cuisine_name': 'Kashmiri'}},\n",
       "  {'cuisine': {'cuisine_id': 178, 'cuisine_name': 'Kebab'}},\n",
       "  {'cuisine': {'cuisine_id': 891, 'cuisine_name': 'Kebabs'}},\n",
       "  {'cuisine': {'cuisine_id': 62, 'cuisine_name': 'Kerala'}},\n",
       "  {'cuisine': {'cuisine_id': 63, 'cuisine_name': 'Konkan'}},\n",
       "  {'cuisine': {'cuisine_id': 67, 'cuisine_name': 'Korean'}},\n",
       "  {'cuisine': {'cuisine_id': 66, 'cuisine_name': 'Lebanese'}},\n",
       "  {'cuisine': {'cuisine_id': 157, 'cuisine_name': 'Lucknowi'}},\n",
       "  {'cuisine': {'cuisine_id': 102, 'cuisine_name': 'Maharashtrian'}},\n",
       "  {'cuisine': {'cuisine_id': 69, 'cuisine_name': 'Malaysian'}},\n",
       "  {'cuisine': {'cuisine_id': 196, 'cuisine_name': 'Mandi'}},\n",
       "  {'cuisine': {'cuisine_id': 72, 'cuisine_name': 'Mangalorean'}},\n",
       "  {'cuisine': {'cuisine_id': 70, 'cuisine_name': 'Mediterranean'}},\n",
       "  {'cuisine': {'cuisine_id': 73, 'cuisine_name': 'Mexican'}},\n",
       "  {'cuisine': {'cuisine_id': 137, 'cuisine_name': 'Middle Eastern'}},\n",
       "  {'cuisine': {'cuisine_id': 1041, 'cuisine_name': 'Mishti'}},\n",
       "  {'cuisine': {'cuisine_id': 1015, 'cuisine_name': 'Mithai'}},\n",
       "  {'cuisine': {'cuisine_id': 1018, 'cuisine_name': 'Modern Indian'}},\n",
       "  {'cuisine': {'cuisine_id': 1051, 'cuisine_name': 'Momos'}},\n",
       "  {'cuisine': {'cuisine_id': 74, 'cuisine_name': 'Mongolian'}},\n",
       "  {'cuisine': {'cuisine_id': 147, 'cuisine_name': 'Moroccan'}},\n",
       "  {'cuisine': {'cuisine_id': 75, 'cuisine_name': 'Mughlai'}},\n",
       "  {'cuisine': {'cuisine_id': 166, 'cuisine_name': 'Naga'}},\n",
       "  {'cuisine': {'cuisine_id': 117, 'cuisine_name': 'Nepalese'}},\n",
       "  {'cuisine': {'cuisine_id': 231, 'cuisine_name': 'North Eastern'}},\n",
       "  {'cuisine': {'cuisine_id': 50, 'cuisine_name': 'North Indian'}},\n",
       "  {'cuisine': {'cuisine_id': 1057, 'cuisine_name': 'Odia'}},\n",
       "  {'cuisine': {'cuisine_id': 278, 'cuisine_name': 'Oriental'}},\n",
       "  {'cuisine': {'cuisine_id': 1048, 'cuisine_name': 'Paan'}},\n",
       "  {'cuisine': {'cuisine_id': 139, 'cuisine_name': 'Pakistani'}},\n",
       "  {'cuisine': {'cuisine_id': 1068, 'cuisine_name': 'Pancake'}},\n",
       "  {'cuisine': {'cuisine_id': 989, 'cuisine_name': 'Panini'}},\n",
       "  {'cuisine': {'cuisine_id': 290, 'cuisine_name': 'Parsi'}},\n",
       "  {'cuisine': {'cuisine_id': 1064, 'cuisine_name': 'Pasta'}},\n",
       "  {'cuisine': {'cuisine_id': 82, 'cuisine_name': 'Pizza'}},\n",
       "  {'cuisine': {'cuisine_id': 1019, 'cuisine_name': 'Poké'}},\n",
       "  {'cuisine': {'cuisine_id': 87, 'cuisine_name': 'Portuguese'}},\n",
       "  {'cuisine': {'cuisine_id': 88, 'cuisine_name': 'Rajasthani'}},\n",
       "  {'cuisine': {'cuisine_id': 27, 'cuisine_name': 'Raw Meats'}},\n",
       "  {'cuisine': {'cuisine_id': 1063, 'cuisine_name': ''}},\n",
       "  {'cuisine': {'cuisine_id': 1005, 'cuisine_name': 'Roast Chicken'}},\n",
       "  {'cuisine': {'cuisine_id': 1023, 'cuisine_name': 'Rolls'}},\n",
       "  {'cuisine': {'cuisine_id': 998, 'cuisine_name': 'Salad'}},\n",
       "  {'cuisine': {'cuisine_id': 304, 'cuisine_name': 'Sandwich'}},\n",
       "  {'cuisine': {'cuisine_id': 1070, 'cuisine_name': 'Saoji'}},\n",
       "  {'cuisine': {'cuisine_id': 83, 'cuisine_name': 'Seafood'}},\n",
       "  {'cuisine': {'cuisine_id': 1066, 'cuisine_name': 'Shake'}},\n",
       "  {'cuisine': {'cuisine_id': 561, 'cuisine_name': 'Shawarma'}},\n",
       "  {'cuisine': {'cuisine_id': 128, 'cuisine_name': 'Sichuan'}},\n",
       "  {'cuisine': {'cuisine_id': 993, 'cuisine_name': 'Sindhi'}},\n",
       "  {'cuisine': {'cuisine_id': 119, 'cuisine_name': 'Singaporean'}},\n",
       "  {'cuisine': {'cuisine_id': 972, 'cuisine_name': 'South American'}},\n",
       "  {'cuisine': {'cuisine_id': 85, 'cuisine_name': 'South Indian'}},\n",
       "  {'cuisine': {'cuisine_id': 89, 'cuisine_name': 'Spanish'}},\n",
       "  {'cuisine': {'cuisine_id': 86, 'cuisine_name': 'Sri Lankan'}},\n",
       "  {'cuisine': {'cuisine_id': 141, 'cuisine_name': 'Steak'}},\n",
       "  {'cuisine': {'cuisine_id': 90, 'cuisine_name': 'Street Food'}},\n",
       "  {'cuisine': {'cuisine_id': 177, 'cuisine_name': 'Sushi'}},\n",
       "  {'cuisine': {'cuisine_id': 1054, 'cuisine_name': 'Tamil'}},\n",
       "  {'cuisine': {'cuisine_id': 163, 'cuisine_name': 'Tea'}},\n",
       "  {'cuisine': {'cuisine_id': 150, 'cuisine_name': 'Tex-Mex'}},\n",
       "  {'cuisine': {'cuisine_id': 95, 'cuisine_name': 'Thai'}},\n",
       "  {'cuisine': {'cuisine_id': 93, 'cuisine_name': 'Tibetan'}},\n",
       "  {'cuisine': {'cuisine_id': 142, 'cuisine_name': 'Turkish'}},\n",
       "  {'cuisine': {'cuisine_id': 99, 'cuisine_name': 'Vietnamese'}},\n",
       "  {'cuisine': {'cuisine_id': 1067, 'cuisine_name': 'Waffle'}},\n",
       "  {'cuisine': {'cuisine_id': 1024, 'cuisine_name': 'Wraps'}}]}"
      ]
     },
     "execution_count": 3,
     "metadata": {},
     "output_type": "execute_result"
    }
   ],
   "source": [
    "h = {'user-key': '6eacc55f385ade30c93e9d0259691e14'}\n",
    "data = {'city_id':1}\n",
    "res = requests.get('https://developers.zomato.com/api/v2.1/cuisines',headers=h,params=data)\n",
    "data=res.json()\n",
    "data"
   ]
  },
  {
   "cell_type": "code",
   "execution_count": null,
   "id": "7e6378b5",
   "metadata": {},
   "outputs": [],
   "source": []
  }
 ],
 "metadata": {
  "kernelspec": {
   "display_name": "Python 3 (ipykernel)",
   "language": "python",
   "name": "python3"
  },
  "language_info": {
   "codemirror_mode": {
    "name": "ipython",
    "version": 3
   },
   "file_extension": ".py",
   "mimetype": "text/x-python",
   "name": "python",
   "nbconvert_exporter": "python",
   "pygments_lexer": "ipython3",
   "version": "3.9.13"
  }
 },
 "nbformat": 4,
 "nbformat_minor": 5
}
