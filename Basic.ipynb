{
 "cells": [
  {
   "cell_type": "code",
   "execution_count": 1,
   "id": "d97c9ef6",
   "metadata": {},
   "outputs": [
    {
     "name": "stdout",
     "output_type": "stream",
     "text": [
      "200\n",
      "ISO-8859-1\n",
      "https://www.codingninjas.com:443/\n"
     ]
    }
   ],
   "source": [
    "import requests\n",
    "res=requests.get('https://codingninjas.in/api/v3/courses')\n",
    "print(res.status_code)\n",
    "print(res.encoding)\n",
    "#print(resp.text)\n",
    "print(res.url)\n",
    "#print(res.headers)"
   ]
  },
  {
   "cell_type": "code",
   "execution_count": 2,
   "id": "1e7bcda7",
   "metadata": {},
   "outputs": [
    {
     "name": "stdout",
     "output_type": "stream",
     "text": [
      "Riya\n"
     ]
    }
   ],
   "source": [
    "import json\n",
    "jd='{\"Name\":\"Riya\"}'\n",
    "pd=json.loads(jd)    #converting json object to python dictionary\n",
    "print(pd['Name'])"
   ]
  },
  {
   "cell_type": "code",
   "execution_count": 4,
   "id": "e07a77d9",
   "metadata": {},
   "outputs": [
    {
     "name": "stdout",
     "output_type": "stream",
     "text": [
      "{'Name': 'Riya', 'Roll_No': 42}\n",
      "Riya\n"
     ]
    }
   ],
   "source": [
    "jd='{\"Student\":{\"Name\":\"Riya\",\"Roll_No\":42}}'\n",
    "pd=json.loads(jd)\n",
    "sd=pd['Student']\n",
    "print(sd)\n",
    "print(sd['Name'])"
   ]
  },
  {
   "cell_type": "code",
   "execution_count": 6,
   "id": "75711112",
   "metadata": {},
   "outputs": [
    {
     "name": "stdout",
     "output_type": "stream",
     "text": [
      "affenpinscher : 0\n",
      "african : 0\n",
      "airedale : 0\n",
      "akita : 0\n",
      "appenzeller : 0\n",
      "australian : 1\n",
      "basenji : 0\n",
      "beagle : 0\n",
      "bluetick : 0\n",
      "borzoi : 0\n",
      "bouvier : 0\n",
      "boxer : 0\n",
      "brabancon : 0\n",
      "briard : 0\n",
      "buhund : 1\n",
      "bulldog : 3\n",
      "bullterrier : 1\n",
      "cattledog : 1\n",
      "chihuahua : 0\n",
      "chow : 0\n",
      "clumber : 0\n",
      "cockapoo : 0\n",
      "collie : 1\n",
      "coonhound : 0\n",
      "corgi : 1\n",
      "cotondetulear : 0\n",
      "dachshund : 0\n",
      "dalmatian : 0\n",
      "dane : 1\n",
      "deerhound : 1\n",
      "dhole : 0\n",
      "dingo : 0\n",
      "doberman : 0\n",
      "elkhound : 1\n",
      "entlebucher : 0\n",
      "eskimo : 0\n",
      "finnish : 1\n",
      "frise : 1\n",
      "germanshepherd : 0\n",
      "greyhound : 1\n",
      "groenendael : 0\n",
      "havanese : 0\n",
      "hound : 7\n",
      "husky : 0\n",
      "keeshond : 0\n",
      "kelpie : 0\n",
      "komondor : 0\n",
      "kuvasz : 0\n",
      "labradoodle : 0\n",
      "labrador : 0\n",
      "leonberg : 0\n",
      "lhasa : 0\n",
      "malamute : 0\n",
      "malinois : 0\n",
      "maltese : 0\n",
      "mastiff : 3\n",
      "mexicanhairless : 0\n",
      "mix : 0\n",
      "mountain : 2\n",
      "newfoundland : 0\n",
      "otterhound : 0\n",
      "ovcharka : 1\n",
      "papillon : 0\n",
      "pekinese : 0\n",
      "pembroke : 0\n",
      "pinscher : 1\n",
      "pitbull : 0\n",
      "pointer : 2\n",
      "pomeranian : 0\n",
      "poodle : 4\n",
      "pug : 0\n",
      "puggle : 0\n",
      "pyrenees : 0\n",
      "redbone : 0\n",
      "retriever : 4\n",
      "ridgeback : 1\n",
      "rottweiler : 0\n",
      "saluki : 0\n",
      "samoyed : 0\n",
      "schipperke : 0\n",
      "schnauzer : 2\n",
      "segugio : 1\n",
      "setter : 3\n",
      "sharpei : 0\n",
      "sheepdog : 2\n",
      "shiba : 0\n",
      "shihtzu : 0\n",
      "spaniel : 7\n",
      "spitz : 1\n",
      "springer : 1\n",
      "stbernard : 0\n",
      "terrier : 23\n",
      "tervuren : 0\n",
      "vizsla : 0\n",
      "waterdog : 1\n",
      "weimaraner : 0\n",
      "whippet : 0\n",
      "wolfhound : 1\n"
     ]
    }
   ],
   "source": [
    "res=requests.get('https://dog.ceo/api/breeds/list/all')\n",
    "py_data=res.json()\n",
    "\n",
    "for key,val in py_data['message'].items():\n",
    "    print(key,\":\",len(val))"
   ]
  },
  {
   "cell_type": "code",
   "execution_count": 7,
   "id": "9f9fc377",
   "metadata": {},
   "outputs": [
    {
     "name": "stdout",
     "output_type": "stream",
     "text": [
      "chesapeake\n",
      "curly\n",
      "flatcoated\n",
      "golden\n"
     ]
    }
   ],
   "source": [
    "res=requests.get('https://dog.ceo/api/breeds/list/all')\n",
    "py_data=res.json()\n",
    "\n",
    "for i in py_data['message']['retriever']:\n",
    "    print(i)"
   ]
  },
  {
   "cell_type": "code",
   "execution_count": 3,
   "id": "e27c2528",
   "metadata": {},
   "outputs": [
    {
     "name": "stdout",
     "output_type": "stream",
     "text": [
      "200\n",
      "https://api.nasa.gov/planetary/apod?api_key=vFAGp7g7ywTVbTUaDoiVEuC48e0mYtYiPftPgK03\n"
     ]
    }
   ],
   "source": [
    "a=requests.get('https://api.nasa.gov/planetary/apod',params={\"api_key\":\"vFAGp7g7ywTVbTUaDoiVEuC48e0mYtYiPftPgK03\"})\n",
    "print(a.status_code)\n",
    "print(a.url)"
   ]
  },
  {
   "cell_type": "code",
   "execution_count": 6,
   "id": "d9d98c76",
   "metadata": {},
   "outputs": [
    {
     "name": "stdout",
     "output_type": "stream",
     "text": [
      "{\n",
      "  \"args\": {}, \n",
      "  \"data\": \"\", \n",
      "  \"files\": {}, \n",
      "  \"form\": {\n",
      "    \"k1\": \"v1\", \n",
      "    \"k2\": \"v2\"\n",
      "  }, \n",
      "  \"headers\": {\n",
      "    \"Accept\": \"*/*\", \n",
      "    \"Accept-Encoding\": \"gzip, deflate, br\", \n",
      "    \"Content-Length\": \"11\", \n",
      "    \"Content-Type\": \"application/x-www-form-urlencoded\", \n",
      "    \"Host\": \"httpbin.org\", \n",
      "    \"User-Agent\": \"python-requests/2.28.1\", \n",
      "    \"X-Amzn-Trace-Id\": \"Root=1-646d0c55-687097464316e85a461d7780\"\n",
      "  }, \n",
      "  \"json\": null, \n",
      "  \"origin\": \"136.233.11.130\", \n",
      "  \"url\": \"http://httpbin.org/post\"\n",
      "}\n",
      "\n"
     ]
    }
   ],
   "source": [
    "res=requests.post('http://httpbin.org/post',data={'k1':'v1','k2':'v2'})\n",
    "print(res.text)"
   ]
  },
  {
   "cell_type": "code",
   "execution_count": 8,
   "id": "9b4d02de",
   "metadata": {},
   "outputs": [
    {
     "name": "stdout",
     "output_type": "stream",
     "text": [
      "{\n",
      "  \"userId\": \"2\",\n",
      "  \"title\": \"Demo\",\n",
      "  \"id\": 101\n",
      "}\n"
     ]
    }
   ],
   "source": [
    "res=requests.post('https://jsonplaceholder.typicode.com/posts',data={'userId':2,'title':'Demo'})\n",
    "print(res.text)"
   ]
  },
  {
   "cell_type": "code",
   "execution_count": 14,
   "id": "86af12c7",
   "metadata": {},
   "outputs": [
    {
     "name": "stdout",
     "output_type": "stream",
     "text": [
      "Apache License 2.0\n"
     ]
    }
   ],
   "source": [
    "import requests\n",
    "from requests.auth import HTTPBasicAuth\n",
    "\n",
    "res=requests.get('https://api.github.com/'+'repos/google/go-cloud',auth=HTTPBasicAuth('hamdeep0254.be20@chitkara.edu.in','obamango77'))\n",
    "print(res.json().get('license').get('name'))"
   ]
  },
  {
   "cell_type": "code",
   "execution_count": 15,
   "id": "7d0567b3",
   "metadata": {},
   "outputs": [
    {
     "name": "stdout",
     "output_type": "stream",
     "text": [
      "fuzzing\n",
      "security\n",
      "stability\n",
      "vulnerabilities\n"
     ]
    }
   ],
   "source": [
    "res=requests.get('https://api.github.com/'+'repos/google/clusterfuzz/topics',auth=HTTPBasicAuth('hamdeep0254.be20@chitkara.edu.in','obamango77'))\n",
    "for i in res.json()['names']:\n",
    "    print(i)"
   ]
  },
  {
   "cell_type": "code",
   "execution_count": null,
   "id": "a5b6e807",
   "metadata": {},
   "outputs": [],
   "source": []
  }
 ],
 "metadata": {
  "kernelspec": {
   "display_name": "Python 3 (ipykernel)",
   "language": "python",
   "name": "python3"
  },
  "language_info": {
   "codemirror_mode": {
    "name": "ipython",
    "version": 3
   },
   "file_extension": ".py",
   "mimetype": "text/x-python",
   "name": "python",
   "nbconvert_exporter": "python",
   "pygments_lexer": "ipython3",
   "version": "3.9.13"
  }
 },
 "nbformat": 4,
 "nbformat_minor": 5
}
